{
 "cells": [
  {
   "cell_type": "markdown",
   "metadata": {},
   "source": [
    "# Fantasy Football Data Collection Notebook"
   ]
  },
  {
   "cell_type": "code",
   "execution_count": 1,
   "metadata": {
    "collapsed": true
   },
   "outputs": [],
   "source": [
    "# Import libraries\n",
    "from bs4 import BeautifulSoup\n",
    "from collections import defaultdict\n",
    "import json\n",
    "import numpy as np\n",
    "import os.path\n",
    "import pprint\n",
    "import requests\n"
   ]
  },
  {
   "cell_type": "code",
   "execution_count": 2,
   "metadata": {
    "collapsed": true
   },
   "outputs": [],
   "source": [
    "# User input block\n",
    "league_id = \"748024\"\n",
    "season_id = \"2017\"\n",
    "data_directory = season_id + \"-season-data\"\n",
    "regular_season_length = 13\n",
    "owners_json = { '1':  {'owner': 'Sean Fitzgerald'},\n",
    "                    '2':  {'owner': 'Darryl McFarland'},\n",
    "                    '3':  {'owner': 'Jason McMillan'},\n",
    "                    '5':  {'owner': 'Bradley Putman'},\n",
    "                    '7':  {'owner': 'Jason Smith'},\n",
    "                    '8':  {'owner': 'Rick Toms'},\n",
    "                    '10': {'owner': 'Jerry LeBlanc'},\n",
    "                    '11': {'owner': 'Matt Zeback'},\n",
    "                    '12': {'owner': 'James Waller'},\n",
    "                    '13': {'owner': 'Zach Hall'}}\n"
   ]
  },
  {
   "cell_type": "code",
   "execution_count": 3,
   "metadata": {
    "collapsed": true
   },
   "outputs": [],
   "source": [
    "# Create data directory\n",
    "if not os.path.isdir(data_directory):\n",
    "    !mkdir $data_directory\n",
    "    \n",
    "if not os.path.isfile(data_directory + \"/owners.json\"):\n",
    "    new_file = data_directory + \"/owners.json\"\n",
    "    !touch $new_file\n",
    "    \n",
    "if not os.path.isfile(data_directory + \"/players.json\"):\n",
    "    new_file = data_directory + \"/players.json\"\n",
    "    !touch $new_file\n",
    "    \n",
    "if not os.path.isfile(data_directory + \"/schedules.json\"):\n",
    "    new_file = data_directory + \"/schedules.json\"\n",
    "    !touch $new_file\n",
    "    "
   ]
  },
  {
   "cell_type": "markdown",
   "metadata": {},
   "source": [
    "### This code block will save the following information for each league member:\n",
    "1. Owner information (owner id's, owner names, team names, and abbreviations) from his [clubhouse webpage](http://games.espn.com/ffl/clubhouse?leagueId=748024&teamId=5&seasonId=2017).\n",
    "2. Schedule information from his [schedule webpage](http://games.espn.com/ffl/schedule?leagueId=748024&teamId=5)."
   ]
  },
  {
   "cell_type": "code",
   "execution_count": 4,
   "metadata": {
    "collapsed": true
   },
   "outputs": [],
   "source": [
    "schedules_json = {}\n",
    "\n",
    "# Loop over owner id's \n",
    "for team_id in owners_json:\n",
    "    team_id = str(team_id)\n",
    "    \n",
    "    # Use clubhouse webpages to gather owner id's, owner names, team names, and abbreviations for owners.json \n",
    "    current_url = \"http://games.espn.com/ffl/clubhouse?leagueId=\" + league_id + \"&seasonId=\" + season_id + \\\n",
    "        \"&teamId=\" + team_id \n",
    "    current_team = BeautifulSoup(requests.get(current_url).text, 'html.parser').find('h3', {'class': 'team-name'})\n",
    "    \n",
    "    owners_json[team_id]['team'] = str(current_team.text.split(' (')[0])\n",
    "    owners_json[team_id]['abbv'] = str(current_team.find('em').text.strip('(').strip(')'))\n",
    "    owners_json[team_id]['weekly_rosters'] = {'0':{}}\n",
    "    \n",
    "    # Use schedule webpages to gather regular season schedules for schedules.json\n",
    "    current_url = \"http://games.espn.com/ffl/schedule\" + \"?leagueId=\" + league_id + \"&seasonId=\" + season_id + \\\n",
    "        \"&teamId=\" + team_id\n",
    "    schedule_html = BeautifulSoup(requests.get(current_url).text, 'html.parser')\n",
    "    schedule_table = list(schedule_html.find('table', {'class': 'tableBody'}).find_all('tr'))\n",
    "   \n",
    "    current_schedule = {}\n",
    "    for i in range(2, 2 + regular_season_length):\n",
    "        row = schedule_table[i].find_all('td')\n",
    "        week = str(row[0].text.strip('Week '))\n",
    "        opponent = str(row[3].find('a')['href'].split('&')[1].strip('teamId='))\n",
    "        \n",
    "        current_schedule[week] = opponent\n",
    "    schedules_json[team_id] = current_schedule\n",
    "    "
   ]
  },
  {
   "cell_type": "markdown",
   "metadata": {},
   "source": [
    "### This code block will gather the league draft results for the current season\n",
    "- Information is gathered from the [draft recap webpage](http://games.espn.com/ffl/tools/draftrecap?leagueId=748024&seasonId=2017).\n",
    "- Each owners drafted roster is saved, along with the season point total for each of those players."
   ]
  },
  {
   "cell_type": "code",
   "execution_count": 5,
   "metadata": {
    "collapsed": true
   },
   "outputs": [],
   "source": [
    "players_json = {}\n",
    "\n",
    "# Gather data from draft recap webpage\n",
    "current_url = \"http://games.espn.com/ffl/tools/draftrecap\" + \"?leagueId=\" + league_id + \"&seasonId=\" + season_id\n",
    "draft_html = BeautifulSoup(requests.get(current_url).text, 'html.parser')\\\n",
    "    .find('div', {'class': 'games-fullcol games-fullcol-extramargin'})\n",
    "draft_table = list(draft_html.find('table').find_all('td'))\n",
    "\n",
    "# Loop over draft rounds\n",
    "for i in range(0, len(draft_table), 32):\n",
    "    current_round = list(draft_table[i].find('table').find_all('tr'))\n",
    "    \n",
    "    # Loop over individual picks\n",
    "    for j in range(1, len(current_round)):\n",
    "        current_pick = {}\n",
    "        \n",
    "        # Extract all player info for current draft pick\n",
    "        raw_value = current_round[j].find_all('td')\n",
    "        player_info = str(raw_value[1].text.replace(u'\\xa0', ' ')).split(' ')\n",
    "        \n",
    "        # Extract player position\n",
    "        player_pos = str(player_info[-1])\n",
    "        current_pick['position'] = player_pos\n",
    "        \n",
    "        # Extract player name and NFL team \n",
    "        # Note: HTML formatting is slightly different for \"D/ST\" players as opposed to other positions\n",
    "        if player_pos != 'D/ST':\n",
    "            current_pick['team'] = player_info[-2]\n",
    "            current_pick['name'] = \" \".join(player_info[:-2]).strip(',').strip('*')\n",
    "        else:\n",
    "            current_pick['name'] = \" \".join(player_info[:-1]).strip(',').strip('*')\n",
    "        \n",
    "        # Add extracted player information to the player DB\n",
    "        player_id = str(raw_value[1].find('a')['playerid'])\n",
    "        players_json[player_id] = current_pick\n",
    "        \n",
    "        # Add <player id: season points total> for this player to the owner's week 0 roster \n",
    "        owner_id = str(raw_value[2].find('a')['href']).split('&')[1].strip('teamId=')\n",
    "        current_url = \"http://games.espn.com/ffl/freeagency\" + \"?leagueId=\" + league_id + \"&seasonId=\" + season_id + \\\n",
    "            \"&avail=-1\" + \"&playerId=\" + player_id\n",
    "            \n",
    "        season_score = str(BeautifulSoup(requests.get(current_url).text, 'html.parser').find('td', \\\n",
    "            {'class': 'playertableStat appliedPoints sortedCell'}).text)\n",
    "        if season_score == '--':\n",
    "            season_score = '0'\n",
    "        owners_json[owner_id]['weekly_rosters']['0'][player_id] = season_score"
   ]
  },
  {
   "cell_type": "markdown",
   "metadata": {},
   "source": [
    "### This code block will gather each owner's roster information for every week in the regular season\n",
    "- Information is gathered from the [quick box score webpage](http://games.espn.com/ffl/boxscorequick?leagueId=748024&teamId=11&scoringPeriodId=1&seasonId=2017&view=scoringperiod&version=quick).\n",
    "- Each owners active and bench lineups are saved, along with the weekly point totals for each of those players."
   ]
  },
  {
   "cell_type": "code",
   "execution_count": 6,
   "metadata": {},
   "outputs": [
    {
     "name": "stdout",
     "output_type": "stream",
     "text": [
      "Collecting week 1 rosters... \n",
      "Collecting week 2 rosters... \n",
      "Collecting week 3 rosters... \n",
      "Collecting week 4 rosters... \n",
      "Collecting week 5 rosters... \n",
      "Collecting week 6 rosters... \n",
      "Collecting week 7 rosters... \n",
      "Collecting week 8 rosters... \n",
      "Collecting week 9 rosters... \n",
      "Collecting week 10 rosters... \n",
      "Collecting week 11 rosters... \n",
      "Collecting week 12 rosters... \n",
      "Collecting week 13 rosters... \n",
      "Done.\n"
     ]
    }
   ],
   "source": [
    "# Loop over weeks in the regular season\n",
    "for week_id in range(1, regular_season_length + 1):\n",
    "    week_id = str(week_id)\n",
    "    print \"Collecting week %s rosters... \" %week_id\n",
    "    \n",
    "    # Loop over owner id's\n",
    "    for team_id in owners_json:\n",
    "        owners_json[team_id]['weekly_rosters'][week_id] = {'lineup': {}, 'bench': {}}\n",
    "        current_url = \"http://games.espn.com/ffl/boxscorequick\" + \"?leagueId=\" + league_id + \"&seasonId=\" + season_id \\\n",
    "            + \"&teamId=\" + team_id +  \"&scoringPeriodId=\" + week_id  + \"&view=scoringperiod\" + \"&version=quick\"\n",
    "                \n",
    "        # Get active lineup for current owner during current week from the \"quick box score\" webpage\n",
    "        lineup_html = BeautifulSoup(requests.get(current_url).text, 'html.parser').find(id=\"playertable_0\")\n",
    "        lineup_table = list(lineup_html.find_all('tr'))[3:12]\n",
    "        \n",
    "        # Loop over players in active lineup\n",
    "        for player in lineup_table:\n",
    "            \n",
    "            # Extract all player info\n",
    "            info = str(player.find_all('td')[1].text.replace(u'\\xa0', ' ')).split(' ')\n",
    "            \n",
    "            # Extract player id and name\n",
    "            player_id = player.find_all('a')[0]['playerid']\n",
    "            name = (info[0] + \" \" + info[1]).strip(',').strip('*')\n",
    "            \n",
    "            # Extract player position (Note: HTML is formatted differently for suspended players)\n",
    "            pos = info[-1]\n",
    "            if pos == 'SSPD':\n",
    "                pos = info[-3]\n",
    "            \n",
    "            # Only add new players to player DB\n",
    "            if player_id not in players_json:\n",
    "                players_json[str(player_id)] = {'name' : name, 'position': pos}\n",
    "                \n",
    "            # Add <player id: current week's score> to this owner's weekly lineup in the owner's DB \n",
    "            score = str(player.find_all('td')[-1].text)\n",
    "            if score == '--':\n",
    "                score = '0'\n",
    "            owners_json[team_id]['weekly_rosters'][week_id]['lineup'][player_id] = score\n",
    "            \n",
    "            \n",
    "        # Get bench lineup for current owner during current week from the \"quick box score\" webpage\n",
    "        bench_html = BeautifulSoup(requests.get(current_url).text, 'html.parser').find(id=\"playertable_1\")\n",
    "        bench_table = list(bench_html.find_all('tr'))[2:9]\n",
    "        \n",
    "        # Loop over players in active lineup\n",
    "        for player in bench_table:\n",
    "            \n",
    "            # Extract all player info\n",
    "            info = str(player.find_all('td')[1].text.replace(u'\\xa0', ' ')).split(' ')\n",
    "            \n",
    "            # Extract player id and name\n",
    "            player_id = player.find_all('a')[0]['playerid']\n",
    "            name = (info[0] + \" \" + info[1]).strip(',').strip('*')\n",
    "            \n",
    "            # Extract player position (Note: HTML is formatted differently for suspended players)\n",
    "            pos = info[-1]\n",
    "            if pos == 'SSPD':\n",
    "                pos = info[-3]\n",
    "            \n",
    "            # Only add new players to player DB\n",
    "            if player_id not in players_json:\n",
    "                players_json[str(player_id)] = {'name' : name, 'position': pos}\n",
    "            \n",
    "            # Add <player id: current week's score> to this owner's weekly bench in the owner's DB\n",
    "            score = str(player.find_all('td')[-1].text)\n",
    "            if score == '--':\n",
    "                score = '0'\n",
    "            owners_json[team_id]['weekly_rosters'][week_id]['bench'][str(player_id)] = score\n",
    "        \n",
    "print \"Done.\"\n"
   ]
  },
  {
   "cell_type": "markdown",
   "metadata": {},
   "source": [
    "### These final codeblocks write all of the information saved above to the specified data directory\n",
    "- There should be three seperate data files (owners.json, players.json, and schedules.json).\n",
    "- Refer to the [data dictionary](./data-dictionary.txt) for an explanation of each file's contents and format."
   ]
  },
  {
   "cell_type": "code",
   "execution_count": 7,
   "metadata": {},
   "outputs": [],
   "source": [
    "# Write schedule info to schedules.json\n",
    "with open(data_directory + \"/schedules.json\", 'w') as f:\n",
    "    f.write(pprint.pformat(schedules_json))\n",
    "\n",
    "# print \"Schedule Info\\n\" + \"\".join([\"=\" for i in range(100)])\n",
    "# with open(data_directory + \"/schedules.json\", 'r') as f:\n",
    "#     print f.read()"
   ]
  },
  {
   "cell_type": "code",
   "execution_count": 8,
   "metadata": {},
   "outputs": [],
   "source": [
    "# Write owner info to owners.json\n",
    "with open(data_directory + \"/owners.json\", 'w') as f:\n",
    "    f.write(pprint.pformat(owners_json))\n",
    "\n",
    "# print \"Current Owner Info\\n\" + \"\".join([\"=\" for i in range(100)])\n",
    "# with open(data_directory + \"/owners.json\", 'r') as f:\n",
    "#     print f.read()"
   ]
  },
  {
   "cell_type": "code",
   "execution_count": 9,
   "metadata": {},
   "outputs": [],
   "source": [
    "# Write player info to players.json\n",
    "with open(data_directory + \"/players.json\", 'w') as f:\n",
    "    f.write(pprint.pformat(players_json))\n",
    "\n",
    "# print \"Relevant Player Info\\n\" + \"\".join([\"=\" for i in range(100)])\n",
    "# with open(data_directory + \"/players.json\", 'r') as f:\n",
    "#     print f.read()"
   ]
  }
 ],
 "metadata": {
  "kernelspec": {
   "display_name": "Python 2",
   "language": "python",
   "name": "python2"
  },
  "language_info": {
   "codemirror_mode": {
    "name": "ipython",
    "version": 2
   },
   "file_extension": ".py",
   "mimetype": "text/x-python",
   "name": "python",
   "nbconvert_exporter": "python",
   "pygments_lexer": "ipython2",
   "version": "2.7.13"
  }
 },
 "nbformat": 4,
 "nbformat_minor": 2
}
