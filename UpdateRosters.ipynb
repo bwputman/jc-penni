{
 "cells": [
  {
   "cell_type": "code",
   "execution_count": 1,
   "metadata": {
    "collapsed": true
   },
   "outputs": [],
   "source": [
    "# Import libraries\n",
    "from bs4 import BeautifulSoup\n",
    "import FantasyFootball\n",
    "import numpy as np\n",
    "# import re\n",
    "import requests"
   ]
  },
  {
   "cell_type": "code",
   "execution_count": 2,
   "metadata": {},
   "outputs": [
    {
     "name": "stdout",
     "output_type": "stream",
     "text": [
      "Current Team Name Abbreviations:\n",
      "================================\n",
      "Jason Smith         LB        \n",
      "Jason McMillan      JM        \n",
      "James Waller        WALL      \n",
      "Jerry LeBlanc       LEBL      \n",
      "Zach Hall           WFF       \n",
      "Sean Fitzgerald     FITZ      \n",
      "Rick Toms           QD        \n",
      "Bradley Putman      BRAD      \n",
      "Darryl McFarland    TMBs      \n",
      "Matt Zeback         Z         \n"
     ]
    }
   ],
   "source": [
    "# Update owners' team abbreviations\n",
    "owner_ids = {'1': 'Sean Fitzgerald',\n",
    "          '2': 'Darryl McFarland',\n",
    "          '3': 'Jason McMillan',\n",
    "          '5': 'Bradley Putman',\n",
    "          '7': 'Jason Smith',\n",
    "          '8': 'Rick Toms',\n",
    "          '10': 'Jerry LeBlanc',\n",
    "          '11': 'Matt Zeback',\n",
    "          '12': 'James Waller',\n",
    "          '13': 'Zach Hall'}\n",
    "\n",
    "owner_abbvs = {}\n",
    "owner_url_preamble = \"http://games.espn.com/ffl/clubhouse?leagueId=748024\"\n",
    "\n",
    "for id_num in owner_ids:\n",
    "    current_url = owner_url_preamble + \"&teamId=\" + str(id_num)\n",
    "#     print current_url\n",
    "    current_abbv = BeautifulSoup(requests.get(current_url).text, 'html.parser').find('h3', {'class': 'team-name'})\\\n",
    "                .find('em').text.strip('(').strip(')')\n",
    "    owner_abbvs[current_abbv] = owner_ids[id_num]\n",
    "\n",
    "print \"Current Team Name Abbreviations:\\n\" + \"\".join([\"=\" for i in range(32)])\n",
    "for abbv, name in owner_abbvs.items():\n",
    "    print '{:20}{:10}'.format(name, abbv)"
   ]
  },
  {
   "cell_type": "code",
   "execution_count": 3,
   "metadata": {},
   "outputs": [],
   "source": [
    "action_keywords = {'drafted': '+', 'added': '+', 'dropped': '-', 'traded': '-'}\n",
    "\n",
    "def updateRosters(url):\n",
    "    activity_html = BeautifulSoup(requests.get(url).text, 'html.parser').find(id='content').find('table')\n",
    "    activity_table = list(activity_html)[5:]\n",
    "\n",
    "    for row in activity_table[:20]:\n",
    "        date_, type_, detail_, action_ = row\n",
    "        if \"trade\" not in type_.text.lower() or \"upheld\" in type_.text.lower():\n",
    "\n",
    "            for sub_row in str(detail_).split('<br/>'): \n",
    "                if sub_row[:3] != \"<td\":\n",
    "                    sub_row = \"<td>\" + sub_row\n",
    "\n",
    "                if sub_row[-5:] != \"</td>\":\n",
    "                    sub_row += \"</td>\"\n",
    "\n",
    "                sub_row = BeautifulSoup(sub_row, 'html.parser')\n",
    "                owner = owner_abbvs[sub_row.text.split(\" \")[0]]\n",
    "                transaction = sub_row.text.split(\" \")[1]\n",
    "                add_drop = action_keywords[transaction]\n",
    "                player = sub_row.find('b').text\n",
    "\n",
    "                print '{:20}{:5}{:20}'.format(owner, add_drop, player)\n",
    "\n",
    "                if transaction == \"traded\":\n",
    "                    recipient = owner_abbvs[sub_row.text.split(\" \")[-1]]\n",
    "                    print '{:20}{:5}{:20}'.format(recipient, \"+\", player)\n",
    "\n",
    "            print"
   ]
  },
  {
   "cell_type": "code",
   "execution_count": 4,
   "metadata": {},
   "outputs": [
    {
     "name": "stdout",
     "output_type": "stream",
     "text": [
      "http://games.espn.com/ffl/recentactivity?leagueId=748024&seasonId=2017&teamId=-1&tranType=-2&activityType=2&startDate=20170827&endDate=20170830\n",
      "\n",
      "Zach Hall           +    Giovani Bernard     \n",
      "\n",
      "Sean Fitzgerald     +    Matt Prater         \n",
      "\n",
      "Rick Toms           +    Greg Zuerlein       \n",
      "\n",
      "Jason Smith         +    Giants D/ST         \n",
      "\n",
      "Darryl McFarland    +    Julius Thomas       \n",
      "\n",
      "Bradley Putman      +    Chris Boswell       \n",
      "\n",
      "Jerry LeBlanc       +    Jason Witten        \n",
      "\n",
      "Matt Zeback         +    Kevin White         \n",
      "\n",
      "James Waller        +    Cairo Santos        \n",
      "\n",
      "James Waller        +    Jaguars D/ST        \n",
      "\n",
      "Matt Zeback         +    Ravens D/ST         \n",
      "\n",
      "Jerry LeBlanc       +    Mason Crosby        \n",
      "\n",
      "Bradley Putman      +    Josh Doctson        \n",
      "\n",
      "Darryl McFarland    +    Dan Bailey          \n",
      "\n",
      "Jason Smith         +    Samaje Perine       \n",
      "\n",
      "Rick Toms           +    Torrey Smith        \n",
      "\n",
      "Sean Fitzgerald     +    Panthers D/ST       \n",
      "\n",
      "Zach Hall           +    Adam Vinatieri      \n",
      "\n",
      "Jason McMillan      +    Patriots D/ST       \n",
      "\n",
      "Jason McMillan      +    Sebastian Janikowski\n",
      "\n"
     ]
    }
   ],
   "source": [
    "activity_url = \"http://games.espn.com/ffl/recentactivity?leagueId=748024&seasonId=2017\" + \"&teamId=-1&tranType=-2\" + \\\n",
    "        \"&activityType=2\" + \"&startDate=20170827\" + \"&endDate=20170830\"\n",
    "    \n",
    "print activity_url + \"\\n\"\n",
    "updateRosters(activity_url)"
   ]
  },
  {
   "cell_type": "code",
   "execution_count": 5,
   "metadata": {
    "collapsed": true
   },
   "outputs": [],
   "source": [
    "# Perform regression test using all 2016 transactional data\n",
    "# 2016 End of season rosters: http://games.espn.com/ffl/leaguerosters?leagueId=748024\n",
    "# Full 2016 activity log: http://games.espn.com/ffl/recentactivity?leagueId=748024&seasonId=2016&activityType=2&startDate=20160807&endDate=20170912&teamId=-1&tranType=-2\n",
    "\n",
    "# activity_url = \"http://games.espn.com/ffl/recentactivity?leagueId=748024&seasonId=2016\" + \\\n",
    "#         \"&activityType=2&startDate=20160807&endDate=20161009&teamId=-1&tranType=-2\""
   ]
  }
 ],
 "metadata": {
  "kernelspec": {
   "display_name": "Python 2",
   "language": "python",
   "name": "python2"
  },
  "language_info": {
   "codemirror_mode": {
    "name": "ipython",
    "version": 2
   },
   "file_extension": ".py",
   "mimetype": "text/x-python",
   "name": "python",
   "nbconvert_exporter": "python",
   "pygments_lexer": "ipython2",
   "version": "2.7.13"
  }
 },
 "nbformat": 4,
 "nbformat_minor": 2
}
